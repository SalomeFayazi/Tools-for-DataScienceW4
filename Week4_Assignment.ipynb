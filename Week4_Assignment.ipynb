{
 "cells": [
  {
   "cell_type": "markdown",
   "id": "a2108b8d",
   "metadata": {},
   "source": [
    "<h1>My Jupyter Notebook on IBM Watson Studio</h1>"
   ]
  },
  {
   "cell_type": "markdown",
   "id": "fd68e71a",
   "metadata": {},
   "source": [
    "<b> Salome Fayazi</b><br>\n",
    "I hope to work in the Medical Data Science field."
   ]
  },
  {
   "cell_type": "markdown",
   "id": "528d5cc5",
   "metadata": {},
   "source": [
    "<i>I am interested in Data Science because it allows me to understand data and AI algorithms.</i>"
   ]
  },
  {
   "cell_type": "markdown",
   "id": "accd4d0e",
   "metadata": {},
   "source": [
    "<h3>My code is supposed to run.</h3>"
   ]
  },
  {
   "cell_type": "code",
   "execution_count": 18,
   "id": "d60f5026",
   "metadata": {},
   "outputs": [
    {
     "name": "stdout",
     "output_type": "stream",
     "text": [
      "[1, 2, 3, 4]\n",
      "[1, 2, 3, 4, 1, 2, 3, 4]\n"
     ]
    }
   ],
   "source": [
    "a = [1, 2, 3, 4]\n",
    "print(a)\n",
    "b = a*2\n",
    "print(b)"
   ]
  },
  {
   "cell_type": "markdown",
   "id": "361a9188",
   "metadata": {},
   "source": [
    "***\n",
    "- Salam\n",
    "- be\n",
    "- hamegi\n",
    "\n",
    "<ol>\n",
    "<li>Yes</li>\n",
    "<li>it</li>\n",
    "<li>works</li>\n",
    "</ol>\n",
    "\n",
    "<s>please ignore</s>\n"
   ]
  }
 ],
 "metadata": {
  "kernelspec": {
   "display_name": "Python 3 (ipykernel)",
   "language": "python",
   "name": "python3"
  },
  "language_info": {
   "codemirror_mode": {
    "name": "ipython",
    "version": 3
   },
   "file_extension": ".py",
   "mimetype": "text/x-python",
   "name": "python",
   "nbconvert_exporter": "python",
   "pygments_lexer": "ipython3",
   "version": "3.9.7"
  }
 },
 "nbformat": 4,
 "nbformat_minor": 5
}
